{
 "cells": [
  {
   "cell_type": "markdown",
   "id": "22eb2eca",
   "metadata": {},
   "source": [
    "Importaciones para poder llevar acabo la implementación propietaria del algoritmo"
   ]
  },
  {
   "cell_type": "code",
   "execution_count": 28,
   "id": "1f8dc67d",
   "metadata": {},
   "outputs": [],
   "source": [
    "import matplotlib.pyplot as plt\n",
    "import random\n",
    "import math\n",
    "import matplotlib.colors as mcolors\n",
    "import os"
   ]
  },
  {
   "cell_type": "markdown",
   "id": "5d863b41",
   "metadata": {},
   "source": [
    "Constantes importantes para la implementación:\n",
    "\n",
    "- `GIF_DIR` es el directorio donde se va a guardar el gif de la animación. \n",
    "- `ITERATIONS` es el número de iteraciones que se llevarán acabo.\n",
    "- `CLUSTERS` es el número de secciones en las que se dividirá la nube de puntos."
   ]
  },
  {
   "cell_type": "code",
   "execution_count": 29,
   "id": "ac6f793b",
   "metadata": {},
   "outputs": [],
   "source": [
    "GIF_DIR = os.path.join(\"media\")\n",
    "ITERATIONS = 10\n",
    "CLUSTERS = 2"
   ]
  },
  {
   "cell_type": "markdown",
   "id": "33236c62",
   "metadata": {},
   "source": [
    "Tipos customizados para facilitar la codificación del algoritmo:\n",
    "\n",
    "- `Coordinate` hace referencia la unión de dos valores flotantes que conforman un punto 2D en el espacio."
   ]
  },
  {
   "cell_type": "code",
   "execution_count": 30,
   "id": "70ff4279",
   "metadata": {},
   "outputs": [],
   "source": [
    "Coordinate = tuple[float, float]"
   ]
  },
  {
   "cell_type": "markdown",
   "id": "5787c487",
   "metadata": {},
   "source": [
    "Función para generar una nube de puntos semi aleatoria. Primero se definen un par de puntos iniciales. Seguidamente, tomando en cuenta el número de puntos que se desean generar, se itera esa cantidad de veces y, en cada iteración, se genera un ángulo aleatorio con una longitud aleatoria entre 0 y `max_len`. Con esto se generan todos los puntos alrededor de los 2 puntos originales."
   ]
  },
  {
   "cell_type": "code",
   "execution_count": 31,
   "id": "2eb9c8b2",
   "metadata": {},
   "outputs": [],
   "source": [
    "def generate_random_point_cloud() -> tuple[list[float], list[float]]:\n",
    "    x_1, y_1, x_2, y_2 = 0, 0, 10, 10\n",
    "    no_points: int = 200\n",
    "    x_values: list[float] = []\n",
    "    y_values: list[float] = []\n",
    "    max_len: float = 8\n",
    "\n",
    "    for _ in range(no_points):\n",
    "        theta = random.randint(0, 361)\n",
    "        len = random.random() * max_len\n",
    "        x_values.append(x_1 + len * math.cos(math.radians(theta)))\n",
    "        y_values.append(y_1 + len * math.sin(math.radians(theta)))\n",
    "\n",
    "        theta = random.randint(0, 361)\n",
    "        len = random.random() * max_len\n",
    "        x_values.append(x_2 + len * math.cos(math.radians(theta)))\n",
    "        y_values.append(y_2 + len * math.sin(math.radians(theta)))\n",
    "\n",
    "    return x_values, y_values"
   ]
  },
  {
   "cell_type": "markdown",
   "id": "c91f7598",
   "metadata": {},
   "source": [
    "Función para generar una lista de centroides al azar. Toma los valores en `x` y `y` y selecciona una cantidad `k` de coordenadas al azar, las agrega a la lista de centroides y lo devuelve."
   ]
  },
  {
   "cell_type": "code",
   "execution_count": 32,
   "id": "dbc3dd03",
   "metadata": {},
   "outputs": [],
   "source": [
    "def generate_random_centroids(\n",
    "    x_values: list[float], y_values: list[float], k: int\n",
    ") -> list[Coordinate]:\n",
    "    centroids: list[Coordinate] = []\n",
    "    random_indices: list[int] = random.sample([i for i in range(len(x_values))], k)\n",
    "    for i in random_indices:\n",
    "        centroids.append((x_values[i], y_values[i]))\n",
    "    return centroids"
   ]
  },
  {
   "cell_type": "markdown",
   "id": "c1031b26",
   "metadata": {},
   "source": [
    "Función encargada de generar una gráfica en la que se muestre la nube de puntos, con cada punto representado con un color perteneciente al centroide que tiene más cercano. De igual manera, se muestra una `+` en el punto en el que se encuentra el centroide en cada gráfica. Finalmente, guarda las gráficas en un directorio definido por la constante explicada al principio del código. Esto es para, al terminar la ejecución del código, poder generar un gif con la secuencia de gráficas guardadas."
   ]
  },
  {
   "cell_type": "code",
   "execution_count": 33,
   "id": "552fb8b9",
   "metadata": {},
   "outputs": [],
   "source": [
    "def plot_point_cloud_with_centroids(\n",
    "    x_values: list[float],\n",
    "    y_values: list[float],\n",
    "    centroids: list[Coordinate],\n",
    "    color_per_centroid: dict[Coordinate, str],\n",
    "    closest_centroid_per_point: dict[Coordinate, Coordinate],\n",
    "    iteration: int,\n",
    "):\n",
    "    plt.figure()\n",
    "    for x, y in zip(x_values, y_values):\n",
    "        closest_centroid = closest_centroid_per_point[(x, y)]\n",
    "        plt.scatter(x, y, c=color_per_centroid[closest_centroid])\n",
    "    for x, y in centroids:\n",
    "        plt.scatter(x, y, c=color_per_centroid[(x, y)], marker=\"+\", s=5_000)\n",
    "    plt.title(f\"Iteration: {iteration + 1}\")\n",
    "    plt.savefig(os.path.join(GIF_DIR, f\"iteration-{str(iteration + 1).zfill(2)}\"), dpi=300)\n",
    "    plt.close()\n",
    "    print(f\"Saved image {iteration + 1}/{ITERATIONS}\")"
   ]
  },
  {
   "cell_type": "markdown",
   "id": "484dd114",
   "metadata": {},
   "source": [
    "Función para generar un color aleatorio para cada uno de los centroides. Esto es para poder distinguirlos al momento de generar las gráficas. Funciona seleccionando una cantidad de colores aleatoriamente, dependiende de la cantidad de centroides que se le pasen. Seguidamente, forma un diccionario donde la llave es el centroide y el valor es el string que representa el color asignado."
   ]
  },
  {
   "cell_type": "code",
   "execution_count": null,
   "id": "0720ead6",
   "metadata": {},
   "outputs": [],
   "source": [
    "def generate_random_color_per_centroid(centroids: list[Coordinate]) -> dict[Coordinate, str]:\n",
    "    random_colors = random.sample(list(mcolors.TABLEAU_COLORS.keys()), len(centroids))\n",
    "    color_per_centroid: dict[Coordinate, str] = {}\n",
    "    for centroid, color in zip(centroids, random_colors):\n",
    "        color_per_centroid[centroid] = color\n",
    "    return color_per_centroid"
   ]
  },
  {
   "cell_type": "markdown",
   "id": "66245548",
   "metadata": {},
   "source": [
    "Función para obtener la distancia entre un par de coordenadas."
   ]
  },
  {
   "cell_type": "code",
   "execution_count": null,
   "id": "37c15e60",
   "metadata": {},
   "outputs": [],
   "source": [
    "def get_distance(point_1: Coordinate, point_2: Coordinate) -> float:\n",
    "    return math.sqrt((point_2[0] - point_1[0]) ** 2 + (point_2[1] - point_1[1]) ** 2)"
   ]
  },
  {
   "cell_type": "markdown",
   "id": "7a9a3d1a",
   "metadata": {},
   "source": [
    "Función para relacionar cada uno de los puntos de la nube al centroide que tiene más cerca. Funciona iterando por cada uno de los puntos de la nube de puntos, calculando su distancia a cada uno de los centroides seleccionados, eligiendo el menor valor y, finalmente, agregando a un diccionario donde la llave es el punto de la nube de puntos y el valor es el centroide más cercano a ese punto."
   ]
  },
  {
   "cell_type": "code",
   "execution_count": 36,
   "id": "d6a4b0cf",
   "metadata": {},
   "outputs": [],
   "source": [
    "def get_closest_centroid_per_point(\n",
    "    x_values: list[float],\n",
    "    y_values: list[float],\n",
    "    centroids: list[Coordinate],\n",
    "):\n",
    "    closest_centroid_per_point: dict[Coordinate, Coordinate] = {}\n",
    "\n",
    "    for x, y in zip(x_values, y_values):\n",
    "        distance_per_centroid: dict[Coordinate, float] = {}\n",
    "\n",
    "        for centroid in centroids:\n",
    "            centroid_x, centroid_y = centroid\n",
    "            distance_per_centroid[centroid] = get_distance((centroid_x, centroid_y), (x, y))\n",
    "\n",
    "        closest_centroid = min(distance_per_centroid, key=lambda x: distance_per_centroid[x])\n",
    "        closest_centroid_per_point[(x, y)] = closest_centroid\n",
    "\n",
    "    return closest_centroid_per_point"
   ]
  },
  {
   "cell_type": "markdown",
   "id": "77c955d8",
   "metadata": {},
   "source": [
    "Función para actualizar los centroides, es decir, moverlos al centro de los puntos asignados a cada centroide. Funciona, primero, creando un diccionario donde la llave es cada uno de los centroides originales y el valor es una lista de puntos, los cuales tienen al centroide de la llave como el más cercano. Seguidamente, se itera sobre los centroides originales y se crea una lista de valores en `x` y en `y`, en las cuales se ponen las componentes de cada uno de los puntos que tienen al centroide original como el más cercano. Con estos valores, se puede calcular el promedio en `x` y en `y`, valores que son, finalmente, las coordenadas del nuevo centroide. Al final, luego de iterar sobre los centroides originales, se devuelve una lista con los nuevos centroides."
   ]
  },
  {
   "cell_type": "code",
   "execution_count": 37,
   "id": "ab9ad66f",
   "metadata": {},
   "outputs": [],
   "source": [
    "def update_centroids(\n",
    "    closest_centroid_per_point: dict[Coordinate, Coordinate],\n",
    "    old_centroids: list[Coordinate],\n",
    ") -> list[Coordinate]:\n",
    "    new_centroids: list[Coordinate] = []\n",
    "    points_per_centroid: dict[Coordinate, list[Coordinate]] = {}\n",
    "    for point, centroid in closest_centroid_per_point.items():\n",
    "        if centroid not in points_per_centroid:\n",
    "            points_per_centroid[centroid] = []\n",
    "        points_per_centroid[centroid].append(point)\n",
    "\n",
    "    for centroid in old_centroids:\n",
    "        x_values: list[float] = []\n",
    "        y_values: list[float] = []\n",
    "        for x, y in points_per_centroid[centroid]:\n",
    "            x_values.append(x)\n",
    "            y_values.append(y)\n",
    "        new_centroids.append((sum(x_values) / len(x_values), sum(y_values) / len(y_values)))\n",
    "    return new_centroids"
   ]
  },
  {
   "cell_type": "markdown",
   "id": "bf1d4923",
   "metadata": {},
   "source": [
    "Función para actualizar los colores y relacionarlos con su nuevo centroides. Funciona iterando, al mismo tiempo, sobre los centroides nuevos y los originales, para asegurar que el orden permanezca y los colores no cambien de grupo."
   ]
  },
  {
   "cell_type": "code",
   "execution_count": 38,
   "id": "12a95d04",
   "metadata": {},
   "outputs": [],
   "source": [
    "def update_colors_mapping(\n",
    "    centroids: list[Coordinate],\n",
    "    color_per_centroid: dict[Coordinate, str],\n",
    "    old_centroids: list[Coordinate],\n",
    "):\n",
    "    new_color_per_centroid: dict[Coordinate, str] = {}\n",
    "\n",
    "    for new_centroid, old_centroid in zip(centroids, old_centroids):\n",
    "        new_color_per_centroid[new_centroid] = color_per_centroid[old_centroid]\n",
    "\n",
    "    return new_color_per_centroid"
   ]
  },
  {
   "cell_type": "markdown",
   "id": "764a5a2e",
   "metadata": {},
   "source": [
    "Función principal, en la que se itera según lo definido en las constantes del grupo, llevan acabo los pases necesario. En resumen, el orden de cada iteración es el siguiente:\n",
    "\n",
    "1. Generar o actualizar centroides\n",
    "2. Generar o actualizar colores para cada centroide\n",
    "3. Obtener el centroide más cercano para cada punto de la nube \n",
    "4. Generar la gráfica"
   ]
  },
  {
   "cell_type": "code",
   "execution_count": null,
   "id": "6be33de9",
   "metadata": {},
   "outputs": [],
   "source": [
    "def main():\n",
    "    x_values, y_values = generate_random_point_cloud()\n",
    "\n",
    "    centroids = generate_random_centroids(x_values, y_values, CLUSTERS)\n",
    "    color_per_centroid = generate_random_color_per_centroid(centroids)\n",
    "    for i in range(ITERATIONS):\n",
    "        closest_centroid_per_point = get_closest_centroid_per_point(x_values, y_values, centroids)\n",
    "        plot_point_cloud_with_centroids(\n",
    "            x_values, y_values, centroids, color_per_centroid, closest_centroid_per_point, i\n",
    "        )\n",
    "\n",
    "        if i == ITERATIONS - 1:\n",
    "            break\n",
    "\n",
    "        old_centroids = centroids.copy()\n",
    "        centroids = update_centroids(closest_centroid_per_point, old_centroids)\n",
    "        color_per_centroid = update_colors_mapping(centroids, color_per_centroid, old_centroids)"
   ]
  },
  {
   "cell_type": "code",
   "execution_count": 40,
   "id": "38e4b997",
   "metadata": {
    "scrolled": true
   },
   "outputs": [
    {
     "name": "stdout",
     "output_type": "stream",
     "text": [
      "Saved image 1/10\n",
      "Saved image 2/10\n",
      "Saved image 3/10\n",
      "Saved image 4/10\n",
      "Saved image 5/10\n",
      "Saved image 6/10\n",
      "Saved image 7/10\n",
      "Saved image 8/10\n",
      "Saved image 9/10\n",
      "Saved image 10/10\n"
     ]
    }
   ],
   "source": [
    "if __name__ == \"__main__\":\n",
    "    main()"
   ]
  },
  {
   "cell_type": "markdown",
   "id": "34113366",
   "metadata": {},
   "source": [
    "Para observar el comando para generar la animación, ver el archivo `media/generate_animation.sh`."
   ]
  },
  {
   "cell_type": "markdown",
   "id": "4128657c",
   "metadata": {},
   "source": [
    "![](media/animation.gif)"
   ]
  }
 ],
 "metadata": {
  "kernelspec": {
   "display_name": "aprendizaje-automatico",
   "language": "python",
   "name": "aprendizaje-automatico"
  },
  "language_info": {
   "codemirror_mode": {
    "name": "ipython",
    "version": 3
   },
   "file_extension": ".py",
   "mimetype": "text/x-python",
   "name": "python",
   "nbconvert_exporter": "python",
   "pygments_lexer": "ipython3",
   "version": "3.11.0rc1"
  }
 },
 "nbformat": 4,
 "nbformat_minor": 5
}
