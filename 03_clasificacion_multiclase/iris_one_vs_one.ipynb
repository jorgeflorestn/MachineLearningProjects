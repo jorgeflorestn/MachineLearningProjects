{
 "cells": [
  {
   "cell_type": "code",
   "execution_count": 5,
   "id": "45b831f4",
   "metadata": {},
   "outputs": [],
   "source": [
    "from sklearn.datasets import load_iris\n",
    "from sklearn.linear_model import LogisticRegression\n",
    "from sklearn.model_selection import train_test_split\n",
    "from sklearn.utils import Bunch\n",
    "import numpy as np\n",
    "import logging\n",
    "\n",
    "logging.basicConfig(level=logging.INFO)\n",
    "logging.disable()"
   ]
  },
  {
   "cell_type": "code",
   "execution_count": 6,
   "id": "afd30df1",
   "metadata": {},
   "outputs": [],
   "source": [
    "def one_vs_one_filter(value: float, option_1: float, option_2: float) -> int:\n",
    "    if value == option_1:\n",
    "        return 1\n",
    "    elif value == option_2:\n",
    "        return 0\n",
    "    return -1"
   ]
  },
  {
   "cell_type": "code",
   "execution_count": 7,
   "id": "d6976cd8",
   "metadata": {},
   "outputs": [],
   "source": [
    "def create_combinations(targets: dict[int, str]) -> list[tuple[int, int]]:\n",
    "    combinations: list[tuple[int, int]] = []\n",
    "    keys = targets.keys()\n",
    "    for i in range(len(keys)):\n",
    "        for j in range(i + 1, len(keys)):\n",
    "            combinations.append((i, j))\n",
    "    return combinations"
   ]
  },
  {
   "cell_type": "code",
   "execution_count": 8,
   "id": "2dad13ec",
   "metadata": {},
   "outputs": [],
   "source": [
    "iris: Bunch = load_iris()  # type: ignore"
   ]
  },
  {
   "cell_type": "code",
   "execution_count": 9,
   "id": "b17e013c",
   "metadata": {},
   "outputs": [],
   "source": [
    "x_data: np.ndarray = iris.get(\"data\")  # type: ignore\n",
    "y_data: np.ndarray = iris.get(\"target\")  # type: ignore"
   ]
  },
  {
   "cell_type": "code",
   "execution_count": 10,
   "id": "714399d6",
   "metadata": {},
   "outputs": [],
   "source": [
    "target_names: list[str] = iris.get(\"target_names\")  # type:ignore\n",
    "targets: dict[int, str] = {k: v for k, v in enumerate(target_names)}\n",
    "combinations = create_combinations(targets)\n",
    "                                                                                 \n",
    "logging.info(f\"Combinations: {combinations}\")"
   ]
  },
  {
   "cell_type": "code",
   "execution_count": 11,
   "id": "20ca7f3d",
   "metadata": {},
   "outputs": [],
   "source": [
    "train_test_arrays: list[np.ndarray] = train_test_split(\n",
    "    x_data, y_data\n",
    ")  # type:ignore\n",
    "x_train, x_test, y_train, y_test = train_test_arrays"
   ]
  },
  {
   "cell_type": "code",
   "execution_count": 12,
   "id": "85783153",
   "metadata": {},
   "outputs": [],
   "source": [
    "models: dict[tuple[int, int], LogisticRegression] = {}\n",
    "                                                                                 \n",
    "for combination in combinations:\n",
    "    class_1, class_2 = combination\n",
    "                                                                                 \n",
    "    logging.info(f\"Training model for {targets[class_1]} vs {targets[class_2]}\")\n",
    "                                                                                 \n",
    "    helper_array_model_1 = np.ones((len(y_train), 1)).flatten() * class_1\n",
    "    helper_array_model_2 = np.ones((len(y_train), 1)).flatten() * class_2\n",
    "                                                                                 \n",
    "    logging.info(np.mean(helper_array_model_1, dtype=float))\n",
    "    logging.info(np.mean(helper_array_model_2, dtype=float))\n",
    "                                                                                 \n",
    "    y_train_mapped = np.array(\n",
    "        list(\n",
    "            map(\n",
    "                one_vs_one_filter,\n",
    "                y_train,\n",
    "                helper_array_model_1,\n",
    "                helper_array_model_2,\n",
    "            )\n",
    "        )\n",
    "    )\n",
    "                                                                                 \n",
    "    x_train_mapped = x_train[y_train_mapped != -1]\n",
    "    y_train_mapped = y_train_mapped[y_train_mapped != -1]\n",
    "                                                                                 \n",
    "    model = LogisticRegression(C=10**10)\n",
    "    model.fit(x_train_mapped, y_train_mapped)\n",
    "                                                                                 \n",
    "    logging.info(f\"Classses are ordered like this: {model.classes_}\")\n",
    "                                                                                 \n",
    "    models[combination] = model\n",
    "                                                                                 \n",
    "logging.info(f\"Models trained: {models}\")"
   ]
  },
  {
   "cell_type": "code",
   "execution_count": 13,
   "id": "48193c94",
   "metadata": {},
   "outputs": [
    {
     "name": "stdout",
     "output_type": "stream",
     "text": [
      "Success rate: 0.9210526315789473\n"
     ]
    }
   ],
   "source": [
    "success: list[bool] = []\n",
    "for x, y in zip(x_test, y_test):\n",
    "    probabilities: dict[int, list[float]] = {}\n",
    "    for combination, model in models.items():\n",
    "        class_1, class_2 = combination\n",
    "                                                                                 \n",
    "        logging.info(f\"Class 1: {class_1}\")\n",
    "        logging.info(f\"Class 2: {class_2}\")\n",
    "                                                                                 \n",
    "        results: np.ndarray = model.predict_proba(x.reshape(1, -1))\n",
    "        prob_class_2 = results[0, 0]\n",
    "        prob_class_1 = results[0, 1]\n",
    "                                                                                 \n",
    "        if class_1 not in probabilities:\n",
    "            probabilities[class_1] = []\n",
    "        if class_2 not in probabilities:\n",
    "            probabilities[class_2] = []\n",
    "                                                                                 \n",
    "        probabilities[class_1] = probabilities[class_1] + [prob_class_1]\n",
    "        probabilities[class_2] = probabilities[class_2] + [prob_class_2]\n",
    "                                                                                 \n",
    "    logging.info(probabilities)\n",
    "                                                                                 \n",
    "    predicted = max(\n",
    "        probabilities, key=lambda x: np.mean(probabilities[x], dtype=float)\n",
    "    )\n",
    "    expected = y\n",
    "                                                                                 \n",
    "    if predicted == expected:\n",
    "        success.append(True)\n",
    "    else:\n",
    "        success.append(False)\n",
    "                                                                                 \n",
    "    logging.info(f\"Predicted: {predicted}. Expected: {expected}\")\n",
    "                                                                                 \n",
    "print(f\"Success rate: {success.count(True) / len(success)}\")"
   ]
  }
 ],
 "metadata": {
  "kernelspec": {
   "display_name": "aprendizaje-automatico",
   "language": "python",
   "name": "aprendizaje-automatico"
  },
  "language_info": {
   "codemirror_mode": {
    "name": "ipython",
    "version": 3
   },
   "file_extension": ".py",
   "mimetype": "text/x-python",
   "name": "python",
   "nbconvert_exporter": "python",
   "pygments_lexer": "ipython3",
   "version": "3.11.0rc1"
  }
 },
 "nbformat": 4,
 "nbformat_minor": 5
}
