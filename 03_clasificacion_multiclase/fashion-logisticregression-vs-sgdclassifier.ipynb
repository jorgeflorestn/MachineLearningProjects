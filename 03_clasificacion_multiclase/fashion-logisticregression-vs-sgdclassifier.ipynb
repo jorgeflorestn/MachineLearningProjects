{
 "cells": [
  {
   "cell_type": "markdown",
   "id": "5d4605a3",
   "metadata": {},
   "source": [
    "#  Implementación en Python para el dataset \"fashion-mnist\""
   ]
  },
  {
   "cell_type": "markdown",
   "id": "6cfa629d",
   "metadata": {},
   "source": [
    "Se importan las librerías necesarias y se crea un diccionario que relaciona las etiquetas numéricas con sus respectivos nombres."
   ]
  },
  {
   "cell_type": "code",
   "execution_count": null,
   "id": "46926b28",
   "metadata": {},
   "outputs": [],
   "source": [
    "import datetime\n",
    "from enum import Enum\n",
    "import time\n",
    "from sklearn.linear_model import LogisticRegression, SGDClassifier\n",
    "import pickle\n",
    "import os\n",
    "\n",
    "CACHE_DIR = \"cache\"\n",
    "\n",
    "TARGETS: dict[int, str] = {\n",
    "    0: \"t-shirt/top\",\n",
    "    1: \"trouser\",\n",
    "    2: \"pullover\",\n",
    "    3: \"dress\",\n",
    "    4: \"coat\",\n",
    "    5: \"sandal\",\n",
    "    6: \"shirt\",\n",
    "    7: \"sneaker\",\n",
    "    8: \"bag\",\n",
    "    9: \"ankle boot\",\n",
    "}"
   ]
  },
  {
   "cell_type": "markdown",
   "id": "ef68d8d8",
   "metadata": {},
   "source": [
    "Se crea un enum para poder reconocer de manera sencilla en los condicionales qué clasificador se desea utilizar."
   ]
  },
  {
   "cell_type": "code",
   "execution_count": null,
   "id": "106069e4",
   "metadata": {},
   "outputs": [],
   "source": [
    "class Models(Enum):\n",
    "    SGDC = 1\n",
    "    LR = 2"
   ]
  },
  {
   "cell_type": "markdown",
   "id": "9570c6b8",
   "metadata": {},
   "source": [
    "Función obtenida de la documentación de fashion-mnist para poder cargar la información de prueba y entrenamiento del repositorio de github. Para que funcione, es necesario tener clonado el repositorio de github en la dirección de esta libreta de jupyter."
   ]
  },
  {
   "cell_type": "code",
   "execution_count": null,
   "id": "118a7cdc",
   "metadata": {},
   "outputs": [],
   "source": [
    "def load_mnist(path, kind=\"train\"):\n",
    "    import os\n",
    "    import gzip\n",
    "    import numpy as np\n",
    "\n",
    "    labels_path = os.path.join(path, \"%s-labels-idx1-ubyte.gz\" % kind)\n",
    "    images_path = os.path.join(path, \"%s-images-idx3-ubyte.gz\" % kind)\n",
    "\n",
    "    with gzip.open(labels_path, \"rb\") as lbpath:\n",
    "        labels = np.frombuffer(lbpath.read(), dtype=np.uint8, offset=8)\n",
    "\n",
    "    with gzip.open(images_path, \"rb\") as imgpath:\n",
    "        images = np.frombuffer(imgpath.read(), dtype=np.uint8, offset=16).reshape(\n",
    "            len(labels), 784\n",
    "        )\n",
    "\n",
    "    return images, labels"
   ]
  },
  {
   "cell_type": "markdown",
   "id": "a43346c1",
   "metadata": {},
   "source": [
    "Esta función se encarga, como su nombre lo indica, de crear u obtener el modelo deseado. La primerea vez que se corre la función, se lleva acabo el entrenamiento normal, mientras que en las siguientes llamadas a la función, se lee el modelo de los archivos. Esto es para poder correr la función múltiples veces sin tener que esperar el entrenamiento del modelo una y otra vez. En cas de que force_train sea verdadero, los archivos generados, en caso de existir, son ignorados, llevan acabo siempre el entrenamiento nuevamente.\n",
    "\n",
    "De igual manera, los valores de entrada son normalizados a un valor entre 0 y 1, para que el entrenamiento sea más rápido, ya que los valores más pequeños logran que el modelo converja rápidamente."
   ]
  },
  {
   "cell_type": "code",
   "execution_count": null,
   "id": "bf1be4d3",
   "metadata": {},
   "outputs": [],
   "source": [
    "def create_or_load_model(\n",
    "    selected_model: Models, force_train: bool = False\n",
    ") -> LogisticRegression | SGDClassifier:\n",
    "    file_suffix: str | None = None\n",
    "    if selected_model == Models.SGDC:\n",
    "        file_suffix = \"SGDC\"\n",
    "    elif selected_model == Models.LR:\n",
    "        file_suffix = \"LR\"\n",
    "\n",
    "    if file_suffix is None:\n",
    "        raise Exception\n",
    "\n",
    "    filePath = os.path.join(CACHE_DIR, f\"fashion_mnist_{file_suffix}\")\n",
    "    if not force_train and os.path.isfile(filePath):\n",
    "        return pickle.load(open(filePath, \"rb\"))\n",
    "\n",
    "    x_train, y_train = load_mnist(\"fashion-mnist/data/fashion/\", kind=\"train\")\n",
    "\n",
    "    x_train = x_train / 255\n",
    "\n",
    "    model: SGDClassifier | LogisticRegression | None = None\n",
    "    if selected_model == Models.SGDC:\n",
    "        model = SGDClassifier()\n",
    "    elif selected_model == Models.LR:\n",
    "        model = LogisticRegression(multi_class=\"ovr\", max_iter=10**10)\n",
    "\n",
    "    if model is None:\n",
    "        raise Exception\n",
    "\n",
    "    model.fit(x_train, y_train)\n",
    "\n",
    "    pickle.dump(model, open(filePath, \"wb\"))\n",
    "\n",
    "    return model"
   ]
  },
  {
   "cell_type": "markdown",
   "id": "537c780e",
   "metadata": {},
   "source": [
    "Función de librearía para obtener los datos de prueba. Los datos entreada son normalizados a valores entre 0 y 1, para que el modelo converja más rápido."
   ]
  },
  {
   "cell_type": "code",
   "execution_count": null,
   "id": "dcf46d81",
   "metadata": {},
   "outputs": [],
   "source": [
    "x_test, y_test = load_mnist(\"fashion-mnist/data/fashion\", kind=\"t10k\")\n",
    "x_test = x_test / 255"
   ]
  },
  {
   "cell_type": "markdown",
   "id": "c0ac8409",
   "metadata": {},
   "source": [
    "Se llama la función para cargar o crear el modelo. Igual se lleva el tiempo que toma la función en correr, para poder comparar el tiempo de entrenamiento entre clasificadores."
   ]
  },
  {
   "cell_type": "code",
   "execution_count": null,
   "id": "f1f4442a",
   "metadata": {},
   "outputs": [],
   "source": [
    "start = time.perf_counter()\n",
    "model = create_or_load_model(Models.LR, force_train=True)\n",
    "end = time.perf_counter()"
   ]
  },
  {
   "cell_type": "markdown",
   "id": "95d5cbf5",
   "metadata": {},
   "source": [
    "Se predicen los valores con el modelo entrenado y se calcula el porcentaje de predicciones correctas."
   ]
  },
  {
   "cell_type": "code",
   "execution_count": null,
   "id": "0b634413",
   "metadata": {},
   "outputs": [],
   "source": [
    "y_predicted = model.predict(x_test)\n",
    "                                                                                              \n",
    "success_log: list[bool] = []\n",
    "for predicted, expected in zip(y_predicted, y_test):\n",
    "    if predicted == expected:\n",
    "        success_log.append(True)\n",
    "    else:\n",
    "        success_log.append(False)\n",
    "                                                                                              \n",
    "print(\n",
    "    f\"LogisticRegression model's training took {datetime.timedelta(seconds=(end - start))}\"\n",
    ")\n",
    "print(\n",
    "    f\"LogisticRegression model's success rate: {success_log.count(True)  / len(success_log)}\"\n",
    ")"
   ]
  },
  {
   "cell_type": "markdown",
   "id": "3d6a79b6",
   "metadata": {},
   "source": [
    "Se llama la función para cargar o crear el modelo. Igual se lleva el tiempo que toma la función en correr, para poder comparar el tiempo de entrenamiento entre clasificadores."
   ]
  },
  {
   "cell_type": "code",
   "execution_count": null,
   "id": "69fdd699",
   "metadata": {},
   "outputs": [],
   "source": [
    "start = time.perf_counter()\n",
    "model = create_or_load_model(Models.SGDC, force_train=True)\n",
    "end = time.perf_counter()"
   ]
  },
  {
   "cell_type": "markdown",
   "id": "5c97812a",
   "metadata": {},
   "source": [
    "Se predicen los valores con el modelo entrenado y se calcula el porcentaje de predicciones correctas."
   ]
  },
  {
   "cell_type": "code",
   "execution_count": 1,
   "id": "cff1c7b5",
   "metadata": {
    "scrolled": true
   },
   "outputs": [
    {
     "name": "stdout",
     "output_type": "stream",
     "text": [
      "LogisticRegression model's training took 0:03:59.121519\n",
      "LogisticRegression model's success rate: 0.841\n",
      "SGDClassifier model's training took 0:00:21.746952\n",
      "SGDClassifier model's success rate: 0.8315\n"
     ]
    }
   ],
   "source": [
    "y_predicted = model.predict(x_test)\n",
    "                                                                                              \n",
    "success_log: list[bool] = []\n",
    "for predicted, expected in zip(y_predicted, y_test):\n",
    "    if predicted == expected:\n",
    "        success_log.append(True)\n",
    "    else:\n",
    "        success_log.append(False)\n",
    "                                                                                              \n",
    "print(\n",
    "    f\"SGDClassifier model's training took {datetime.timedelta(seconds=(end - start))}\"\n",
    ")\n",
    "print(\n",
    "    f\"SGDClassifier model's success rate: {success_log.count(True)  / len(success_log)}\"\n",
    ")"
   ]
  },
  {
   "cell_type": "markdown",
   "id": "947e6282",
   "metadata": {},
   "source": [
    "Como se puede obtener en la impresión anterior, el porcentaje de precciones correctas de ambos modelos es bastante cercano, mientras que el tiempo de entrenamiento de LogisticRegression es mucho mayor al del SGDClassifier. Esto quiere decir que, para este caso de uso, el SGDClassifier es el mejor modelo de ambos."
   ]
  }
 ],
 "metadata": {
  "kernelspec": {
   "display_name": "aprendizaje-automatico",
   "language": "python",
   "name": "aprendizaje-automatico"
  },
  "language_info": {
   "codemirror_mode": {
    "name": "ipython",
    "version": 3
   },
   "file_extension": ".py",
   "mimetype": "text/x-python",
   "name": "python",
   "nbconvert_exporter": "python",
   "pygments_lexer": "ipython3",
   "version": "3.11.0rc1"
  }
 },
 "nbformat": 4,
 "nbformat_minor": 5
}
