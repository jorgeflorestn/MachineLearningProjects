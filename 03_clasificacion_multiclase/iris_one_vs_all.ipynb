{
 "cells": [
  {
   "cell_type": "code",
   "execution_count": 19,
   "id": "9a913206",
   "metadata": {},
   "outputs": [],
   "source": [
    "from sklearn.datasets import load_iris\n",
    "from sklearn.linear_model import LogisticRegression\n",
    "from sklearn.model_selection import train_test_split\n",
    "from sklearn.utils import Bunch\n",
    "import numpy as np\n",
    "import logging\n",
    "\n",
    "logging.basicConfig(level=logging.INFO)\n",
    "logging.disable()"
   ]
  },
  {
   "cell_type": "code",
   "execution_count": 20,
   "id": "07e071e8",
   "metadata": {},
   "outputs": [],
   "source": [
    "iris: Bunch = load_iris()  # type: ignore"
   ]
  },
  {
   "cell_type": "code",
   "execution_count": 21,
   "id": "3a456079",
   "metadata": {},
   "outputs": [],
   "source": [
    "x_data: np.ndarray = iris.get(\"data\")  # type: ignore\n",
    "y_data: np.ndarray = iris.get(\"target\")  # type: ignore"
   ]
  },
  {
   "cell_type": "code",
   "execution_count": 22,
   "id": "6f9dfb6b",
   "metadata": {},
   "outputs": [],
   "source": [
    "target_names: list[str] = iris.get(\"target_names\")  # type:ignore\n",
    "targets: dict[int, str] = {k: v for k, v in enumerate(target_names)}"
   ]
  },
  {
   "cell_type": "code",
   "execution_count": 23,
   "id": "f359c713",
   "metadata": {},
   "outputs": [],
   "source": [
    "train_test_arrays: list[np.ndarray] = train_test_split(\n",
    "    x_data, y_data\n",
    ")  # type:ignore\n",
    "x_train, x_test, y_train, y_test = train_test_arrays"
   ]
  },
  {
   "cell_type": "code",
   "execution_count": 24,
   "id": "2180ecc7",
   "metadata": {},
   "outputs": [],
   "source": [
    "one_vs_all_filter = lambda data, value: 1 if data == value else 0"
   ]
  },
  {
   "cell_type": "code",
   "execution_count": 25,
   "id": "cddec6ba",
   "metadata": {},
   "outputs": [],
   "source": [
    "models: dict[str, LogisticRegression] = {}\n",
    "                                                                                        \n",
    "for target_value, target_name in targets.items():\n",
    "    logging.info(f\"Training model for {target_name}\")\n",
    "                                                                                        \n",
    "    helper_array = np.ones((len(y_data), 1)).flatten() * target_value\n",
    "    y_train_mapped = np.array(list(map(one_vs_all_filter, y_train, helper_array)))\n",
    "                                                                                        \n",
    "    model = LogisticRegression(C=10**10)\n",
    "    model.fit(x_train, y_train_mapped)\n",
    "                                                                                        \n",
    "    models[target_name] = model"
   ]
  },
  {
   "cell_type": "code",
   "execution_count": 26,
   "id": "530928dc",
   "metadata": {},
   "outputs": [],
   "source": [
    "success: list[bool] = []\n",
    "for x, y in zip(x_test, y_test):\n",
    "    probabilites: dict[str, float] = {}\n",
    "                                                                                        \n",
    "    for model_name, model in models.items():\n",
    "        probability = model.predict_proba(x.reshape(1, -1))\n",
    "        probabilites[model_name] = probability[0, 1]\n",
    "                                                                                        \n",
    "        logging.info(\n",
    "            f\"Probability that input {x} is of class {model_name}: {probability[0, 0]}\"\n",
    "        )\n",
    "                                                                                        \n",
    "    predicted_class = max(probabilites, key=lambda x: probabilites[x])\n",
    "    logging.info(f\"Max probabilty is for class {predicted_class}\")\n",
    "                                                                                        \n",
    "    if predicted_class == targets[y]:\n",
    "        success.append(True)\n",
    "    else:\n",
    "        success.append(False)"
   ]
  },
  {
   "cell_type": "code",
   "execution_count": 27,
   "id": "34cfbec0",
   "metadata": {},
   "outputs": [
    {
     "name": "stdout",
     "output_type": "stream",
     "text": [
      "Success rate: 0.9473684210526315\n"
     ]
    }
   ],
   "source": [
    "print(f\"Success rate: {success.count(True) / len(success)}\")"
   ]
  }
 ],
 "metadata": {
  "kernelspec": {
   "display_name": "aprendizaje-automatico",
   "language": "python",
   "name": "aprendizaje-automatico"
  },
  "language_info": {
   "codemirror_mode": {
    "name": "ipython",
    "version": 3
   },
   "file_extension": ".py",
   "mimetype": "text/x-python",
   "name": "python",
   "nbconvert_exporter": "python",
   "pygments_lexer": "ipython3",
   "version": "3.11.0rc1"
  }
 },
 "nbformat": 4,
 "nbformat_minor": 5
}
